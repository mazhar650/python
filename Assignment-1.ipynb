{
 "cells": [
  {
   "cell_type": "code",
   "execution_count": 1,
   "metadata": {},
   "outputs": [
    {
     "name": "stdout",
     "output_type": "stream",
     "text": [
      "Twinkle, twinkle, little star \n",
      " \t How I wonder what you are! \n",
      " \t \t up above the world so high,\n",
      " \t \t like a diamond in the sky.\n",
      " Twinkle, twinkle, little star,\n",
      " \t How I wonder what you are  \n"
     ]
    }
   ],
   "source": [
    "# Question no.1\n",
    "print(\"Twinkle, twinkle, little star \\n \\t How I wonder what you are! \\n \\t \\t up above the world so high,\\n \\t \\t like a diamond in the sky.\\n Twinkle, twinkle, little star,\\n \\t How I wonder what you are  \")"
   ]
  },
  {
   "cell_type": "code",
   "execution_count": 2,
   "metadata": {},
   "outputs": [
    {
     "name": "stdout",
     "output_type": "stream",
     "text": [
      "Python version 3.7.4 (default, Aug  9 2019, 18:34:13) [MSC v.1915 64 bit (AMD64)]\n",
      "Version info. sys.version_info(major=3, minor=7, micro=4, releaselevel='final', serial=0)\n"
     ]
    }
   ],
   "source": [
    "# Question no.2\n",
    "import sys\n",
    "print(\" Python Version\", sys.version)\n",
    "print(\" Version Info.\", sys.version_info)"
   ]
  },
  {
   "cell_type": "code",
   "execution_count": 6,
   "metadata": {},
   "outputs": [
    {
     "name": "stdout",
     "output_type": "stream",
     "text": [
      "2019-11-21 10:49:05.069332\n"
     ]
    }
   ],
   "source": [
    "# Question no.3\n",
    "from datetime import datetime\n",
    "print(datetime.now())"
   ]
  },
  {
   "cell_type": "code",
   "execution_count": 7,
   "metadata": {},
   "outputs": [
    {
     "name": "stdout",
     "output_type": "stream",
     "text": [
      "Enter radius 20\n",
      "1256.8\n"
     ]
    }
   ],
   "source": [
    "# Question no.4\n",
    "radius= int(input(\" Enter Radius \"))\n",
    "area= 3.142*(radius**2)\n",
    "print(area)"
   ]
  },
  {
   "cell_type": "code",
   "execution_count": 9,
   "metadata": {},
   "outputs": [
    {
     "name": "stdout",
     "output_type": "stream",
     "text": [
      "Enter First Name Django\n",
      "Enter Last Name Python\n",
      "Python Django\n"
     ]
    }
   ],
   "source": [
    "# Question no.5\n",
    "firstName =input(\" Enter Firstname \")\n",
    "lastName =input(\" Enter Lastname \")\n",
    "print(lastName+\" \"+firstName)"
   ]
  },
  {
   "cell_type": "code",
   "execution_count": 10,
   "metadata": {},
   "outputs": [
    {
     "name": "stdout",
     "output_type": "stream",
     "text": [
      "Enter First number 10\n",
      "Enter Second number 12\n",
      "22\n"
     ]
    }
   ],
   "source": [
    "# Question no.6\n",
    "firstNumb =int(input(\" Enter First number \"))\n",
    "secondNumb =int(input(\" Enter Second number \"))\n",
    "print(firstNumb+secondNumb)"
   ]
  },
  {
   "cell_type": "code",
   "execution_count": null,
   "metadata": {},
   "outputs": [],
   "source": []
  }
 ],
 "metadata": {
  "kernelspec": {
   "display_name": "Python 3",
   "language": "python",
   "name": "python3"
  },
  "language_info": {
   "codemirror_mode": {
    "name": "ipython",
    "version": 3
   },
   "file_extension": ".py",
   "mimetype": "text/x-python",
   "name": "python",
   "nbconvert_exporter": "python",
   "pygments_lexer": "ipython3",
   "version": "3.7.4"
  }
 },
 "nbformat": 4,
 "nbformat_minor": 2
}
