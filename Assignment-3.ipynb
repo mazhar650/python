{
 "cells": [
  {
   "cell_type": "code",
   "execution_count": 1,
   "metadata": {},
   "outputs": [
    {
     "name": "stdout",
     "output_type": "stream",
     "text": [
      " First Value 34\n",
      " Second Value 4\n",
      " Enter Operator *\n",
      "136\n"
     ]
    }
   ],
   "source": [
    "# Task no.1 Calculater in Python\n",
    "first_val =int(input(' First Value '))\n",
    "sec_val =int(input(' Second Value '))\n",
    "operator =input(' Enter Operator ')\n",
    "if operator == \"+\" :\n",
    "    print(first_val + sec_val)\n",
    "elif operator == \"-\" :\n",
    "    print(first_val - sec_val)\n",
    "elif operator == \"*\" :\n",
    "    print(first_val * sec_val)\n",
    "elif operator == \"/\" :\n",
    "    print(first_val / sec_val)\n",
    "elif operator == \"**\" :\n",
    "    print(first_val ** sec_val)\n",
    "else :\n",
    "    print(\" Invalid Operator \")"
   ]
  },
  {
   "cell_type": "code",
   "execution_count": 3,
   "metadata": {},
   "outputs": [
    {
     "name": "stdout",
     "output_type": "stream",
     "text": [
      "[32, 13]\n"
     ]
    }
   ],
   "source": [
    "# Task no.2 find number value in a List\n",
    "my_list= ['number', 'string', 32, 'skip', 13]\n",
    "list_numb= []\n",
    "for val in my_list :\n",
    "    if type(val) == int or val.isdigit():\n",
    "        list_numb.append(int(val))\n",
    "    else :\n",
    "        continue;\n",
    "print(list_numb)"
   ]
  },
  {
   "cell_type": "code",
   "execution_count": 4,
   "metadata": {},
   "outputs": [
    {
     "name": "stdout",
     "output_type": "stream",
     "text": [
      " Method no.1  {'name': 'User Name', 'password': 'User Password', 'email': 'example@mail.com', 'address': 'Lahore'}\n",
      " Method no.1  {'name': 'User Name', 'password': 'User Password', 'email': 'example@mail.com', 'address': 'Lahore', 'updated': 'updated'}\n"
     ]
    }
   ],
   "source": [
    "# Task no.3 Script to add a Key in Dictionary\n",
    "my_dict= {\n",
    "    'name': 'User Name',\n",
    "    'password': 'User Password',\n",
    "    'email': 'example@mail.com',\n",
    "}\n",
    "my_dict.update({'address': 'Lahore'})\n",
    "print(' Method no.1 ', my_dict)\n",
    "my_dict['updated'] = 'updated'\n",
    "print(' Method no.1 ', my_dict)"
   ]
  },
  {
   "cell_type": "code",
   "execution_count": 5,
   "metadata": {},
   "outputs": [
    {
     "name": "stdout",
     "output_type": "stream",
     "text": [
      "68\n"
     ]
    }
   ],
   "source": [
    "# Task no.4 Sum All the Numeric Items in a Dictionary\n",
    "sum_dict= {'key_first': 'string', 'key_sec': 43, 'key_third': 21, 'key_fourth': 'skip', 'key_fifth': True, 'key_sixth': 4}\n",
    "sum_val= 0\n",
    "for val in sum_dict.values() :\n",
    "    if type(val) == int:\n",
    "        sum_val+= int(val)\n",
    "    else :\n",
    "        continue;\n",
    "print(sum_val)"
   ]
  },
  {
   "cell_type": "code",
   "execution_count": 6,
   "metadata": {},
   "outputs": [
    {
     "name": "stdout",
     "output_type": "stream",
     "text": [
      " These are Same values  ['string', 'string', 'str', 'str']\n"
     ]
    }
   ],
   "source": [
    "# Task no.5 Identify Duplicate Values from list\n",
    "my_list= ['string', 'skip', 'changed', 'string', 'str', 'not now', 'str']\n",
    "same= []\n",
    "for val in my_list :\n",
    "    if my_list.count(val) > 1:\n",
    "         same.append(val)\n",
    "    else :\n",
    "         continue\n",
    "print(' These are Same values ', same)"
   ]
  },
  {
   "cell_type": "code",
   "execution_count": 7,
   "metadata": {},
   "outputs": [
    {
     "name": "stdout",
     "output_type": "stream",
     "text": [
      " Enter Key to find in Dictionary email\n",
      " Your key email  doesn't exist in Dictionary\n"
     ]
    }
   ],
   "source": [
    "# Task no.6 Python Script to Check if a Given Key Already Exists in a Dictionary\n",
    "my_dict= {'name': 'My name', 'phone': 'My phone', 'city': 'Islamabad'}\n",
    "user_key= input(' Enter Key to find in Dictionary ')\n",
    "if user_key in my_dict :\n",
    "     print(\" Your key\", user_key, \" exist in Dictionary\")\n",
    "else : \n",
    "    print(\" Your key\", user_key, \" doesn't exist in Dictionary\")"
   ]
  },
  {
   "cell_type": "code",
   "execution_count": null,
   "metadata": {},
   "outputs": [],
   "source": []
  }
 ],
 "metadata": {
  "kernelspec": {
   "display_name": "Python 3",
   "language": "python",
   "name": "python3"
  },
  "language_info": {
   "codemirror_mode": {
    "name": "ipython",
    "version": 3
   },
   "file_extension": ".py",
   "mimetype": "text/x-python",
   "name": "python",
   "nbconvert_exporter": "python",
   "pygments_lexer": "ipython3",
   "version": "3.7.4"
  }
 },
 "nbformat": 4,
 "nbformat_minor": 2
}
