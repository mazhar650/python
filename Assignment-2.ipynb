{
 "cells": [
  {
   "cell_type": "code",
   "execution_count": 1,
   "metadata": {},
   "outputs": [
    {
     "name": "stdout",
     "output_type": "stream",
     "text": [
      " Engish Marks 78\n",
      " Pakistan Studies Marks 82\n",
      " Islamiat Marks 67\n",
      " Urdu Marks 73\n",
      " Mathematics Subject Marks out of 100 89\n",
      " Excellent You have obtained  A grade\n"
     ]
    }
   ],
   "source": [
    "# Task no.1 Mark Sheet\n",
    "subject1 =int(input(\" Engish Marks \"))\n",
    "subject2 =int(input(\" Pakistan Studies Marks \"))\n",
    "subject3 =int(input(\" Islamiat Marks \"))\n",
    "subject4 =int(input(\" Urdu Marks \"))\n",
    "subject5 =int(input(\" Mathematics Subject Marks out of 100 \"))\n",
    "user_total =subject1 + subject2 + subject3 + subject4 + subject5\n",
    "total_marks =500\n",
    "user_per =user_total * 100 / total_marks\n",
    "if user_per >= 80 and user_per <= 100 :\n",
    "    print(\" Marvelous You have obtained  A+ grade\")\n",
    "elif user_per >= 70 and user_per < 80 :\n",
    "    print(\" Excellent You have obtained  A grade\")\n",
    "elif user_per >= 60 and user_per < 70 :\n",
    "    print(\" Good You have obtained  B grade\")\n",
    "elif user_per >= 50 and user_per < 60 :\n",
    "    print(\" Keep it up You have obtained  C grade\")\n",
    "elif user_per >= 0 and user_per < 50 :\n",
    "    print(\" Sorry you didn't pass the exam better luck next time..!\")\n",
    "else :\n",
    "    print(\" Max Marks of each subject is 100\")"
   ]
  },
  {
   "cell_type": "code",
   "execution_count": 2,
   "metadata": {},
   "outputs": [
    {
     "name": "stdout",
     "output_type": "stream",
     "text": [
      " Enter An Number 97\n",
      "97  is Odd\n"
     ]
    }
   ],
   "source": [
    "# Task no.2 Identify Number is Odd or Even\n",
    "number= int(input(' Enter An Number '))\n",
    "if number % 2 == 0 :\n",
    "    print(number,' is Even')\n",
    "else :\n",
    "    print(number,' is Odd')"
   ]
  },
  {
   "cell_type": "code",
   "execution_count": 3,
   "metadata": {},
   "outputs": [
    {
     "name": "stdout",
     "output_type": "stream",
     "text": [
      "6\n"
     ]
    }
   ],
   "source": [
    "# Task no.3 Counting Lentgh of list\n",
    "my_list= ['skip', \"string\", 45, \"numb\", 63, 19]\n",
    "print(len(my_list))"
   ]
  },
  {
   "cell_type": "code",
   "execution_count": 4,
   "metadata": {},
   "outputs": [
    {
     "name": "stdout",
     "output_type": "stream",
     "text": [
      "190\n"
     ]
    }
   ],
   "source": [
    "# Task no.4 Sum All Number in a list\n",
    "sum_list= [24, 97, 56, 13, False]\n",
    "print(sum(sum_list))"
   ]
  },
  {
   "cell_type": "code",
   "execution_count": 5,
   "metadata": {},
   "outputs": [
    {
     "name": "stdout",
     "output_type": "stream",
     "text": [
      "366\n"
     ]
    }
   ],
   "source": [
    "# Task no.5 Finding the Largest Number in a list\n",
    "numb_list= [34, 99, 27, 117, 284, 366]\n",
    "print(max(numb_list))"
   ]
  },
  {
   "cell_type": "code",
   "execution_count": 6,
   "metadata": {},
   "outputs": [
    {
     "name": "stdout",
     "output_type": "stream",
     "text": [
      "[1, 1, 2, 3]\n"
     ]
    }
   ],
   "source": [
    "# Task no.6 print out all the elements of the list that are less than 5.\n",
    "a = [1, 1, 2, 3, 5, 8, 13, 21, 34, 55, 89]\n",
    "print(a[0: 4])"
   ]
  },
  {
   "cell_type": "code",
   "execution_count": null,
   "metadata": {},
   "outputs": [],
   "source": []
  }
 ],
 "metadata": {
  "kernelspec": {
   "display_name": "Python 3",
   "language": "python",
   "name": "python3"
  },
  "language_info": {
   "codemirror_mode": {
    "name": "ipython",
    "version": 3
   },
   "file_extension": ".py",
   "mimetype": "text/x-python",
   "name": "python",
   "nbconvert_exporter": "python",
   "pygments_lexer": "ipython3",
   "version": "3.7.4"
  }
 },
 "nbformat": 4,
 "nbformat_minor": 2
}
